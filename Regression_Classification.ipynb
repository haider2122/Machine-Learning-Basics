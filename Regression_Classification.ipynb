{
  "cells": [
    {
      "cell_type": "markdown",
      "metadata": {
        "id": "yOnPYgKjwl0s"
      },
      "source": [
        "# Introduction to Regression and Classification"
      ]
    },
    {
      "cell_type": "markdown",
      "metadata": {
        "id": "2BjiPca6wl01"
      },
      "source": [
        "## Linear Regression with scikit-learn - a simple Introduction"
      ]
    },
    {
      "cell_type": "code",
      "execution_count": null,
      "metadata": {
        "id": "BA7Mra08wl03"
      },
      "outputs": [],
      "source": [
        "import pandas as pd\n",
        "import numpy as np\n",
        "import matplotlib.pyplot as plt\n",
        "plt.style.use(\"seaborn\")"
      ]
    },
    {
      "cell_type": "code",
      "execution_count": null,
      "metadata": {
        "id": "_jnCEPopwl05"
      },
      "outputs": [],
      "source": [
        "budget = np.array([5, 10, 17, 27, 35, 40, 42, 49, 54, 60])"
      ]
    },
    {
      "cell_type": "code",
      "execution_count": null,
      "metadata": {
        "id": "a6wYHA9xwl06"
      },
      "outputs": [],
      "source": [
        "revenue = np.array([2.6, 19. , 23.8, 26.9, 41.1, 58.3, 40.3, 58.7, 73.1, 69.7])"
      ]
    },
    {
      "cell_type": "code",
      "execution_count": null,
      "metadata": {
        "id": "Tjlh-Elgwl07",
        "outputId": "d6196d77-a82e-4855-e265-bae9df32bfec"
      },
      "outputs": [
        {
          "data": {
            "text/html": [
              "<div>\n",
              "<style scoped>\n",
              "    .dataframe tbody tr th:only-of-type {\n",
              "        vertical-align: middle;\n",
              "    }\n",
              "\n",
              "    .dataframe tbody tr th {\n",
              "        vertical-align: top;\n",
              "    }\n",
              "\n",
              "    .dataframe thead th {\n",
              "        text-align: right;\n",
              "    }\n",
              "</style>\n",
              "<table border=\"1\" class=\"dataframe\">\n",
              "  <thead>\n",
              "    <tr style=\"text-align: right;\">\n",
              "      <th></th>\n",
              "      <th>revenue</th>\n",
              "      <th>budget</th>\n",
              "    </tr>\n",
              "  </thead>\n",
              "  <tbody>\n",
              "    <tr>\n",
              "      <th>0</th>\n",
              "      <td>2.6</td>\n",
              "      <td>5</td>\n",
              "    </tr>\n",
              "    <tr>\n",
              "      <th>1</th>\n",
              "      <td>19.0</td>\n",
              "      <td>10</td>\n",
              "    </tr>\n",
              "    <tr>\n",
              "      <th>2</th>\n",
              "      <td>23.8</td>\n",
              "      <td>17</td>\n",
              "    </tr>\n",
              "    <tr>\n",
              "      <th>3</th>\n",
              "      <td>26.9</td>\n",
              "      <td>27</td>\n",
              "    </tr>\n",
              "    <tr>\n",
              "      <th>4</th>\n",
              "      <td>41.1</td>\n",
              "      <td>35</td>\n",
              "    </tr>\n",
              "    <tr>\n",
              "      <th>5</th>\n",
              "      <td>58.3</td>\n",
              "      <td>40</td>\n",
              "    </tr>\n",
              "    <tr>\n",
              "      <th>6</th>\n",
              "      <td>40.3</td>\n",
              "      <td>42</td>\n",
              "    </tr>\n",
              "    <tr>\n",
              "      <th>7</th>\n",
              "      <td>58.7</td>\n",
              "      <td>49</td>\n",
              "    </tr>\n",
              "    <tr>\n",
              "      <th>8</th>\n",
              "      <td>73.1</td>\n",
              "      <td>54</td>\n",
              "    </tr>\n",
              "    <tr>\n",
              "      <th>9</th>\n",
              "      <td>69.7</td>\n",
              "      <td>60</td>\n",
              "    </tr>\n",
              "  </tbody>\n",
              "</table>\n",
              "</div>"
            ],
            "text/plain": [
              "   revenue  budget\n",
              "0      2.6       5\n",
              "1     19.0      10\n",
              "2     23.8      17\n",
              "3     26.9      27\n",
              "4     41.1      35\n",
              "5     58.3      40\n",
              "6     40.3      42\n",
              "7     58.7      49\n",
              "8     73.1      54\n",
              "9     69.7      60"
            ]
          },
          "execution_count": 4,
          "metadata": {},
          "output_type": "execute_result"
        }
      ],
      "source": [
        "df = pd.DataFrame(data = {\"revenue\":revenue, \"budget\":budget})\n",
        "df"
      ]
    },
    {
      "cell_type": "code",
      "execution_count": null,
      "metadata": {
        "id": "_SY0mGE1wl08",
        "outputId": "baa3fbfa-2fc8-4c4c-eef5-ac6b363d37b5"
      },
      "outputs": [
        {
          "data": {
            "image/png": "[encoded data removed]",
            "text/plain": [
              "<Figure size 864x576 with 1 Axes>"
            ]
          },
          "metadata": {
            "needs_background": "light"
          },
          "output_type": "display_data"
        }
      ],
      "source": [
        "plt.figure( figsize = (12, 8))\n",
        "plt.scatter(x = df.budget, y = df.revenue, s = 50)\n",
        "plt.xlabel(\"Budget\", fontsize = 13)\n",
        "plt.ylabel(\"Revenue\", fontsize = 13)\n",
        "plt.show()"
      ]
    },
    {
      "cell_type": "markdown",
      "metadata": {
        "id": "glUCaseewl09"
      },
      "source": [
        "__Linear Relationship between Budget and Revenue__:"
      ]
    },
    {
      "cell_type": "markdown",
      "metadata": {
        "id": "rSLC3J-awl0-"
      },
      "source": [
        "![image-2.png](attachment:image-2.png)"
      ]
    },
    {
      "cell_type": "code",
      "execution_count": null,
      "metadata": {
        "id": "KCuTne71wl0_"
      },
      "outputs": [],
      "source": [
        "from sklearn.linear_model import LinearRegression"
      ]
    },
    {
      "cell_type": "code",
      "execution_count": null,
      "metadata": {
        "id": "KN6CBvotwl1A"
      },
      "outputs": [],
      "source": [
        "lm = LinearRegression(fit_intercept = True)"
      ]
    },
    {
      "cell_type": "code",
      "execution_count": null,
      "metadata": {
        "scrolled": true,
        "id": "bnkfQMSwwl1A",
        "outputId": "cd3ffbe3-491e-4062-a7a3-c254fd27bf81"
      },
      "outputs": [
        {
          "data": {
            "text/plain": [
              "LinearRegression(copy_X=True, fit_intercept=True, n_jobs=None, normalize=False)"
            ]
          },
          "execution_count": 8,
          "metadata": {},
          "output_type": "execute_result"
        }
      ],
      "source": [
        "lm.fit(X = df.budget.to_frame(), y = df.revenue) # fitting the model (Regression Line)"
      ]
    },
    {
      "cell_type": "code",
      "execution_count": null,
      "metadata": {
        "id": "UhNFLyu2wl1B",
        "outputId": "b37fc054-46c0-4338-c03d-cc923937d12a"
      },
      "outputs": [
        {
          "data": {
            "text/plain": [
              "array([1.19897684])"
            ]
          },
          "execution_count": 9,
          "metadata": {},
          "output_type": "execute_result"
        }
      ],
      "source": [
        "slope = lm.coef_ # slope of Regression Line\n",
        "slope"
      ]
    },
    {
      "cell_type": "code",
      "execution_count": null,
      "metadata": {
        "id": "JJXhJTDmwl1C"
      },
      "outputs": [],
      "source": [
        "intercept = lm.intercept_ # intercept of Regression Line\n",
        "intercept"
      ]
    },
    {
      "cell_type": "code",
      "execution_count": null,
      "metadata": {
        "id": "WjDFrFzEwl1E"
      },
      "outputs": [],
      "source": [
        "df[\"pred\"] = lm.predict(df.budget.to_frame())\n",
        "df"
      ]
    },
    {
      "cell_type": "code",
      "execution_count": null,
      "metadata": {
        "id": "qoaiOgpTwl1F"
      },
      "outputs": [],
      "source": [
        "x_lin = np.array([0, 100])\n",
        "y_lin = intercept + slope * x_lin"
      ]
    },
    {
      "cell_type": "code",
      "execution_count": null,
      "metadata": {
        "id": "bUTgtrqawl1F"
      },
      "outputs": [],
      "source": [
        "y_lin"
      ]
    },
    {
      "cell_type": "code",
      "execution_count": null,
      "metadata": {
        "id": "5kP9xgf8wl1I"
      },
      "outputs": [],
      "source": [
        "plt.figure( figsize = (12, 8))\n",
        "plt.scatter(x = df.budget, y = df.revenue, s = 50, label = \"Data\")\n",
        "plt.plot(x_lin, y_lin, c = \"red\", label = \"Regression Line\")\n",
        "plt.xlabel(\"Budget\", fontsize = 13)\n",
        "plt.ylabel(\"Revenue\", fontsize = 13)\n",
        "plt.legend(fontsize = 13)\n",
        "plt.show()"
      ]
    },
    {
      "cell_type": "code",
      "execution_count": null,
      "metadata": {
        "id": "wO468KUEwl1I"
      },
      "outputs": [],
      "source": [
        ""
      ]
    },
    {
      "cell_type": "markdown",
      "metadata": {
        "id": "1NG2dzTSwl1I"
      },
      "source": [
        "## Making Predictions with Linear Regression"
      ]
    },
    {
      "cell_type": "markdown",
      "metadata": {
        "id": "2Tgle_e7wl1J"
      },
      "source": [
        "__new movies (observations/data points)__"
      ]
    },
    {
      "cell_type": "code",
      "execution_count": null,
      "metadata": {
        "id": "brCrozvYwl1J"
      },
      "outputs": [],
      "source": [
        "budget_new = np.array([63, 66, 74, 80, 85]) "
      ]
    },
    {
      "cell_type": "code",
      "execution_count": null,
      "metadata": {
        "id": "8s-E343Uwl1K"
      },
      "outputs": [],
      "source": [
        "revenue_new = np.array([74.2,  80.7, 98.2,  94.8, 101.7]) "
      ]
    },
    {
      "cell_type": "code",
      "execution_count": null,
      "metadata": {
        "id": "YMOU4mGhwl1K"
      },
      "outputs": [],
      "source": [
        "df_new = pd.DataFrame(data = {\"revenue\":revenue_new, \"budget\":budget_new})\n",
        "df_new"
      ]
    },
    {
      "cell_type": "code",
      "execution_count": null,
      "metadata": {
        "id": "_vZuS3p5wl1L"
      },
      "outputs": [],
      "source": [
        "df_new[\"pred\"] = lm.predict(df_new.budget.to_frame())\n",
        "df_new"
      ]
    },
    {
      "cell_type": "code",
      "execution_count": null,
      "metadata": {
        "id": "VYI79502wl1L"
      },
      "outputs": [],
      "source": [
        "plt.figure( figsize = (12, 8))\n",
        "plt.scatter(x = df.budget, y = df.revenue, s = 50, label = \"Data\")\n",
        "plt.plot(x_lin, y_lin, c = \"red\", label = \"Regression Line\")\n",
        "plt.scatter(x = df_new.budget, y = df_new.revenue, s = 50, label = \"New Data\")\n",
        "plt.xlabel(\"Budget\", fontsize = 13)\n",
        "plt.ylabel(\"Revenue\", fontsize = 13)\n",
        "plt.legend(fontsize = 13)\n",
        "plt.show()"
      ]
    },
    {
      "cell_type": "code",
      "execution_count": null,
      "metadata": {
        "id": "fgWYLUrewl1M"
      },
      "outputs": [],
      "source": [
        ""
      ]
    },
    {
      "cell_type": "markdown",
      "metadata": {
        "id": "xV7C9ue-wl1M"
      },
      "source": [
        "## Overfitting"
      ]
    },
    {
      "cell_type": "markdown",
      "metadata": {
        "id": "30oML9_Zwl1N"
      },
      "source": [
        "__Overfitting__: Model performs well on the original (training) dataset, but it does not generalize well to new data (test set).\n",
        "Overfitting happens when the __model is too complex__ (too many parameters) and detects subtle patterns (noise) in the training set. "
      ]
    },
    {
      "cell_type": "markdown",
      "metadata": {
        "id": "oY_lawzSwl1N"
      },
      "source": [
        "Example: __Polynomial Model__ with degree = 9 (perfect fit)"
      ]
    },
    {
      "cell_type": "markdown",
      "metadata": {
        "id": "wQCj3U1Lwl1N"
      },
      "source": [
        "![image-3.png](attachment:image-3.png)"
      ]
    },
    {
      "cell_type": "code",
      "execution_count": null,
      "metadata": {
        "id": "IBUCDn3Ewl1N"
      },
      "outputs": [],
      "source": [
        "poly_m = np.polyfit(x = df.budget, y = df.revenue, deg = 9) # polynomial regression (deg = 9)"
      ]
    },
    {
      "cell_type": "code",
      "execution_count": null,
      "metadata": {
        "id": "a3pyMZ_Xwl1O"
      },
      "outputs": [],
      "source": [
        "poly_m # 10 regression parameters (intercept + 9 regression coefficients)"
      ]
    },
    {
      "cell_type": "code",
      "execution_count": null,
      "metadata": {
        "id": "M7QQ83S-wl1O"
      },
      "outputs": [],
      "source": [
        "x_poly = np.linspace(0, 100, 1000) # x values for polynomial regression line/curve"
      ]
    },
    {
      "cell_type": "code",
      "execution_count": null,
      "metadata": {
        "id": "YBRE_Tomwl1O"
      },
      "outputs": [],
      "source": [
        "y_poly = np.polyval(poly_m, x_poly) # y values for polynomial regression line/curve"
      ]
    },
    {
      "cell_type": "code",
      "execution_count": null,
      "metadata": {
        "id": "Hpv9yNQYwl1O"
      },
      "outputs": [],
      "source": [
        "plt.figure( figsize = (12, 8))\n",
        "plt.scatter(x = df.budget, y = df.revenue, s = 50, label = \"Data\")\n",
        "plt.plot(x_lin, y_lin, c = \"red\", label = \"Linear Regression Line\")\n",
        "plt.plot(x_poly, y_poly, label = \"Polynomial Regression | deg = 9 (Overfit)\",linestyle = \"--\", color = \"red\")\n",
        "plt.scatter(x = df_new.budget, y = df_new.revenue, s = 50, label = \"New Data\")\n",
        "plt.xlabel(\"Budget\", fontsize = 13)\n",
        "plt.ylabel(\"Revenue\", fontsize = 13)\n",
        "plt.legend(fontsize = 11, loc = 4)\n",
        "plt.ylim(0, 150)\n",
        "plt.show()"
      ]
    },
    {
      "cell_type": "markdown",
      "metadata": {
        "id": "sKS7yqWfwl1P"
      },
      "source": [
        "__Solutions__ to overcome overfitting:"
      ]
    },
    {
      "cell_type": "markdown",
      "metadata": {
        "id": "ZwSn0AkFwl1P"
      },
      "source": [
        "__Solutions__ to overcome overfitting: <br>\n",
        "-use a __simpler model__ with fewer parameters (linear rather than polynomial)<br>\n",
        "-more and better data (remove outliers & errors) <br>\n",
        "-Constrain the model -> make the model more simple with __Regularization__"
      ]
    },
    {
      "cell_type": "code",
      "execution_count": null,
      "metadata": {
        "id": "aOcQA1jEwl1P"
      },
      "outputs": [],
      "source": [
        ""
      ]
    },
    {
      "cell_type": "markdown",
      "metadata": {
        "id": "u6wr3xomwl1P"
      },
      "source": [
        "##  Underfitting"
      ]
    },
    {
      "cell_type": "markdown",
      "metadata": {
        "id": "tQUwNObvwl1Q"
      },
      "source": [
        "__Underfitting__: Model performs neither well on the original (training) dataset, nor does it generalize well to new data (test set).\n",
        "Underfitting happens when the __model is too simple__ to learn the underlying structure of the data."
      ]
    },
    {
      "cell_type": "markdown",
      "metadata": {
        "id": "znjgxYHkwl1Q"
      },
      "source": [
        "most simple (linear) model with only one paramter: __y = a__ <br>\n",
        "intercept == a (e.g. the mean)<br>\n",
        "slope == 0 "
      ]
    },
    {
      "cell_type": "code",
      "execution_count": null,
      "metadata": {
        "id": "kqjbv4hDwl1Q"
      },
      "outputs": [],
      "source": [
        "mean = df.revenue.mean()\n",
        "mean"
      ]
    },
    {
      "cell_type": "code",
      "execution_count": null,
      "metadata": {
        "id": "B3WQHHkkwl1Q"
      },
      "outputs": [],
      "source": [
        "plt.figure( figsize = (12, 8))\n",
        "plt.scatter(x = df.budget, y = df.revenue, s = 50, label = \"Data\")\n",
        "plt.plot(x_lin, y_lin, c = \"red\", label = \"Linear Regression Line\")\n",
        "plt.plot(x_poly, y_poly, label = \"Polynomial Regression | deg = 9 (Overfit)\",linestyle = \"--\", color = \"red\")\n",
        "plt.hlines(y = mean, xmin = 0, xmax = 100, linestyle = \"-.\", color = \"darkred\", label = \"Underfit\")\n",
        "plt.scatter(x = df_new.budget, y = df_new.revenue, s = 50, label = \"New Data\")\n",
        "plt.xlabel(\"Budget\", fontsize = 13)\n",
        "plt.ylabel(\"Revenue\", fontsize = 13)\n",
        "plt.legend(fontsize = 11, loc = 4)\n",
        "plt.ylim(0, 150)\n",
        "plt.show()"
      ]
    },
    {
      "cell_type": "markdown",
      "metadata": {
        "id": "DrzXnp5Rwl1R"
      },
      "source": [
        "__Solutions__ to overcome underfitting:"
      ]
    },
    {
      "cell_type": "markdown",
      "metadata": {
        "id": "ax3iXsV6wl1R"
      },
      "source": [
        "__Solutions__ to overcome underfitting: <br>\n",
        "-use a __more powerful model__ with more parameters<br>\n",
        "-add more/better features (independent variables) to the algorithm -> Feature Engineering <br>\n",
        "-Reduce the constraints of the model -> make it more complex with __less Regularization__"
      ]
    },
    {
      "cell_type": "code",
      "execution_count": null,
      "metadata": {
        "id": "yXNf6PZgwl1S"
      },
      "outputs": [],
      "source": [
        ""
      ]
    },
    {
      "cell_type": "markdown",
      "metadata": {
        "id": "wlWqaM1Ywl1S"
      },
      "source": [
        "## Logistic Regression with scikit-learn - a simple Introduction (Part 1)"
      ]
    },
    {
      "cell_type": "code",
      "execution_count": null,
      "metadata": {
        "id": "03lM89Zzwl1T"
      },
      "outputs": [],
      "source": [
        "import pandas as pd\n",
        "import numpy as np\n",
        "import matplotlib.pyplot as plt\n",
        "plt.style.use(\"seaborn\")"
      ]
    },
    {
      "cell_type": "code",
      "execution_count": null,
      "metadata": {
        "id": "3LpHvwxYwl1T"
      },
      "outputs": [],
      "source": [
        "hours = np.array([0.5, 0.75, 1., 1.25, 1.5, 1.75, 1.75, 2.,\n",
        "                  2.25, 2.5, 2.75, 3., 3.25, 3.5, 4., 4.25,\n",
        "                  4.5, 4.75, 5., 5.5])"
      ]
    },
    {
      "cell_type": "code",
      "execution_count": null,
      "metadata": {
        "id": "_uG5M_WTwl1U"
      },
      "outputs": [],
      "source": [
        "success = np.array([0, 0, 0, 0, 0, 0, 1, 0, 1, 0, 1, 0, 1, 0, 1, 1, 1, 1, 1, 1]) "
      ]
    },
    {
      "cell_type": "code",
      "execution_count": null,
      "metadata": {
        "id": "Xb-yboK2wl1U"
      },
      "outputs": [],
      "source": [
        "plt.figure(figsize=(12, 6))\n",
        "plt.scatter(hours, success)\n",
        "plt.xlabel(\"Study Hours\", fontsize = 15)\n",
        "plt.ylabel(\"Pass/Fail\", fontsize = 15)\n",
        "plt.ylim(-0.2, 1.2)\n",
        "plt.show()"
      ]
    },
    {
      "cell_type": "code",
      "execution_count": null,
      "metadata": {
        "id": "ytNeZtExwl1U"
      },
      "outputs": [],
      "source": [
        "data = pd.DataFrame({'hours': hours, 'success': success})"
      ]
    },
    {
      "cell_type": "code",
      "execution_count": null,
      "metadata": {
        "id": "q7its0hEwl1U"
      },
      "outputs": [],
      "source": [
        "data"
      ]
    },
    {
      "cell_type": "code",
      "execution_count": null,
      "metadata": {
        "id": "hD0RsE_nwl1U"
      },
      "outputs": [],
      "source": [
        "from sklearn.linear_model import LinearRegression"
      ]
    },
    {
      "cell_type": "code",
      "execution_count": null,
      "metadata": {
        "id": "_z93u7jzwl1U"
      },
      "outputs": [],
      "source": [
        "lm = LinearRegression(fit_intercept= True)"
      ]
    },
    {
      "cell_type": "code",
      "execution_count": null,
      "metadata": {
        "id": "9daXAYmtwl1V"
      },
      "outputs": [],
      "source": [
        "lm.fit(data.hours.to_frame(), data.success)"
      ]
    },
    {
      "cell_type": "code",
      "execution_count": null,
      "metadata": {
        "id": "OxpCfEDFwl1V"
      },
      "outputs": [],
      "source": [
        "lm.coef_"
      ]
    },
    {
      "cell_type": "code",
      "execution_count": null,
      "metadata": {
        "id": "YdmAUiaQwl1V"
      },
      "outputs": [],
      "source": [
        "lm.intercept_"
      ]
    },
    {
      "cell_type": "code",
      "execution_count": null,
      "metadata": {
        "id": "XZItQ7R9wl1V"
      },
      "outputs": [],
      "source": [
        "data[\"pred\"] = lm.predict(data.hours.to_frame())\n",
        "data"
      ]
    },
    {
      "cell_type": "code",
      "execution_count": null,
      "metadata": {
        "id": "r40pb93Xwl1V"
      },
      "outputs": [],
      "source": [
        "plt.figure(figsize=(12, 6))\n",
        "plt.scatter(data.hours, data.success, label = \"Data\")\n",
        "plt.plot(data.hours, data.pred, color = \"red\", label = \"Linear Regression\")\n",
        "plt.plot(data.hours, np.where(data.pred > 0.5, 1, 0), linestyle = \"--\", label = \"Classification Rule\")\n",
        "plt.legend(fontsize = 13)\n",
        "plt.yticks(np.arange(-0.2, 1.3, 0.1))\n",
        "plt.ylim(-0.2, 1.2)\n",
        "plt.xlabel(\"Study Hours\", fontsize = 15)\n",
        "plt.ylabel(\"Pass/Fail\", fontsize = 15)\n",
        "plt.show()"
      ]
    },
    {
      "cell_type": "code",
      "execution_count": null,
      "metadata": {
        "id": "kxiREKzAwl1W"
      },
      "outputs": [],
      "source": [
        ""
      ]
    },
    {
      "cell_type": "markdown",
      "metadata": {
        "id": "QD3dB6Eqwl1W"
      },
      "source": [
        "## Logistic Regression with scikit-learn - a simple Introduction (Part 2)"
      ]
    },
    {
      "cell_type": "code",
      "execution_count": null,
      "metadata": {
        "id": "5QJGwtBEwl1W"
      },
      "outputs": [],
      "source": [
        "from sklearn.linear_model import LogisticRegression"
      ]
    },
    {
      "cell_type": "code",
      "execution_count": null,
      "metadata": {
        "id": "-BRxO_90wl1W"
      },
      "outputs": [],
      "source": [
        "lm = LogisticRegression()"
      ]
    },
    {
      "cell_type": "code",
      "execution_count": null,
      "metadata": {
        "id": "n87Oco9Xwl1W"
      },
      "outputs": [],
      "source": [
        "data"
      ]
    },
    {
      "cell_type": "code",
      "execution_count": null,
      "metadata": {
        "id": "PtgNC81-wl1W"
      },
      "outputs": [],
      "source": [
        "lm.fit(data.hours.to_frame(), data.success)"
      ]
    },
    {
      "cell_type": "code",
      "execution_count": null,
      "metadata": {
        "id": "aNPEIVmnwl1X"
      },
      "outputs": [],
      "source": [
        "data[\"pred\"] = lm.predict(data.hours.to_frame())\n",
        "data"
      ]
    },
    {
      "cell_type": "code",
      "execution_count": null,
      "metadata": {
        "id": "Nd1SGyJ7wl1X"
      },
      "outputs": [],
      "source": [
        "plt.figure(figsize=(12, 6))\n",
        "plt.scatter(data.hours, data.success, label = \"Data\")\n",
        "plt.plot(data.hours, data.pred, color = \"red\", label = \"Classification\")\n",
        "plt.legend(fontsize = 13)\n",
        "plt.yticks(np.arange(-0.2, 1.3, 0.1))\n",
        "plt.ylim(-0.2, 1.2)\n",
        "plt.xlabel(\"Study Hours\", fontsize = 15)\n",
        "plt.ylabel(\"Pass/Fail\", fontsize = 15)\n",
        "plt.show()"
      ]
    },
    {
      "cell_type": "code",
      "execution_count": null,
      "metadata": {
        "id": "ovhBfbe0wl1X"
      },
      "outputs": [],
      "source": [
        "proba = lm.predict_proba(data.hours.to_frame())\n",
        "proba"
      ]
    },
    {
      "cell_type": "code",
      "execution_count": null,
      "metadata": {
        "id": "AwGMoFiIwl1X"
      },
      "outputs": [],
      "source": [
        "plt.figure(figsize=(12, 6))\n",
        "plt.scatter(data.hours, data.success, label = \"Data\")\n",
        "plt.plot(data.hours, data.pred, color = \"red\", label = \"Classification\")\n",
        "plt.plot(data.hours, proba[:, 0], \"m--\", label = \"Probability Fail\")\n",
        "plt.plot(data.hours, proba[:, 1], \"g--\", label = \"Probability Pass\")\n",
        "plt.legend(fontsize = 13)\n",
        "plt.yticks(np.arange(-0.2, 1.3, 0.1))\n",
        "plt.ylim(-0.2, 1.2)\n",
        "plt.xlabel(\"Study Hours\", fontsize = 15)\n",
        "plt.ylabel(\"Pass/Fail\", fontsize = 15)\n",
        "plt.show()"
      ]
    },
    {
      "cell_type": "code",
      "execution_count": null,
      "metadata": {
        "id": "YeV8_MHhwl1X"
      },
      "outputs": [],
      "source": [
        ""
      ]
    }
  ],
  "metadata": {
    "kernelspec": {
      "display_name": "Python 3",
      "language": "python",
      "name": "python3"
    },
    "language_info": {
      "codemirror_mode": {
        "name": "ipython",
        "version": 3
      },
      "file_extension": ".py",
      "mimetype": "text/x-python",
      "name": "python",
      "nbconvert_exporter": "python",
      "pygments_lexer": "ipython3",
      "version": "3.7.3"
    },
    "colab": {
      "name": "Regression_Classification.ipynb",
      "provenance": []
    }
  },
  "nbformat": 4,
  "nbformat_minor": 0
}